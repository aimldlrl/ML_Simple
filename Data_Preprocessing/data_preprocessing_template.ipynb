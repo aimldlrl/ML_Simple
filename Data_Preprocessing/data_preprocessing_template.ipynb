{
 "cells": [
  {
   "cell_type": "code",
   "execution_count": 10,
   "metadata": {
    "collapsed": true
   },
   "outputs": [],
   "source": [
    "# Data Preprocessing Template\n",
    "\n",
    "# Importing the libraries\n",
    "import numpy as np\n",
    "import matplotlib.pyplot as plt\n",
    "import pandas as pd\n",
    "np.set_printoptions(suppress=True) # supress scientific number"
   ]
  },
  {
   "cell_type": "code",
   "execution_count": 11,
   "metadata": {},
   "outputs": [
    {
     "data": {
      "text/plain": [
       "(   Country   Age   Salary Purchased\n",
       " 0   France  44.0  72000.0        No\n",
       " 1    Spain  27.0  48000.0       Yes\n",
       " 2  Germany  30.0  54000.0        No\n",
       " 3    Spain  38.0  61000.0        No\n",
       " 4  Germany  40.0      NaN       Yes\n",
       " 5   France  35.0  58000.0       Yes\n",
       " 6    Spain   NaN  52000.0        No\n",
       " 7   France  48.0  79000.0       Yes\n",
       " 8  Germany  50.0  83000.0        No\n",
       " 9   France  37.0  67000.0       Yes, array([['France', 44.0, 72000.0],\n",
       "        ['Spain', 27.0, 48000.0],\n",
       "        ['Germany', 30.0, 54000.0],\n",
       "        ['Spain', 38.0, 61000.0],\n",
       "        ['Germany', 40.0, nan],\n",
       "        ['France', 35.0, 58000.0],\n",
       "        ['Spain', nan, 52000.0],\n",
       "        ['France', 48.0, 79000.0],\n",
       "        ['Germany', 50.0, 83000.0],\n",
       "        ['France', 37.0, 67000.0]], dtype=object), array(['No', 'Yes', 'No', 'No', 'Yes', 'Yes', 'No', 'Yes', 'No', 'Yes'],\n",
       "       dtype=object))"
      ]
     },
     "execution_count": 11,
     "metadata": {},
     "output_type": "execute_result"
    }
   ],
   "source": [
    "# Importing the dataset\n",
    "dataset = pd.read_csv('Data.csv')\n",
    "X = dataset.iloc[:, :-1].values\n",
    "y = dataset.iloc[:, 3].values\n",
    "\n",
    "dataset,X,y"
   ]
  },
  {
   "cell_type": "code",
   "execution_count": 12,
   "metadata": {},
   "outputs": [
    {
     "data": {
      "text/plain": [
       "(array([['Germany', 40.0, nan],\n",
       "        ['France', 37.0, 67000.0],\n",
       "        ['Spain', 27.0, 48000.0],\n",
       "        ['Spain', nan, 52000.0],\n",
       "        ['France', 48.0, 79000.0],\n",
       "        ['Spain', 38.0, 61000.0],\n",
       "        ['France', 44.0, 72000.0],\n",
       "        ['France', 35.0, 58000.0]], dtype=object),\n",
       " array(['Yes', 'Yes', 'Yes', 'No', 'Yes', 'No', 'No', 'Yes'], dtype=object))"
      ]
     },
     "execution_count": 12,
     "metadata": {},
     "output_type": "execute_result"
    }
   ],
   "source": [
    "# Splitting the dataset into the Training set and Test set\n",
    "from sklearn.model_selection import train_test_split\n",
    "X_train, X_test, y_train, y_test = train_test_split(X, y, test_size = 0.2, random_state = 0)\n",
    "\n",
    "X_train, y_train"
   ]
  },
  {
   "cell_type": "code",
   "execution_count": 13,
   "metadata": {},
   "outputs": [
    {
     "data": {
      "text/plain": [
       "(array([[    1.        ,     0.        ,     0.        ,    44.        ,\n",
       "         72000.        ],\n",
       "        [    0.        ,     0.        ,     1.        ,    27.        ,\n",
       "         48000.        ],\n",
       "        [    0.        ,     1.        ,     0.        ,    30.        ,\n",
       "         54000.        ],\n",
       "        [    0.        ,     0.        ,     1.        ,    38.        ,\n",
       "         61000.        ],\n",
       "        [    0.        ,     1.        ,     0.        ,    40.        ,\n",
       "         63777.77777778],\n",
       "        [    1.        ,     0.        ,     0.        ,    35.        ,\n",
       "         58000.        ],\n",
       "        [    0.        ,     0.        ,     1.        ,    38.77777778,\n",
       "         52000.        ],\n",
       "        [    1.        ,     0.        ,     0.        ,    48.        ,\n",
       "         79000.        ],\n",
       "        [    0.        ,     1.        ,     0.        ,    50.        ,\n",
       "         83000.        ],\n",
       "        [    1.        ,     0.        ,     0.        ,    37.        ,\n",
       "         67000.        ]]), array([0, 1, 0, 0, 1, 1, 0, 1, 0, 1], dtype=int64))"
      ]
     },
     "execution_count": 13,
     "metadata": {},
     "output_type": "execute_result"
    }
   ],
   "source": [
    "# Taking care of missing data\n",
    "from sklearn.preprocessing import Imputer\n",
    "imputer = Imputer(missing_values = 'NaN', strategy = 'mean', axis = 0)\n",
    "imputer = imputer.fit(X[:, 1:3])\n",
    "X[:, 1:3] = imputer.transform(X[:, 1:3])\n",
    "\n",
    "# Encoding categorical data\n",
    "# Encoding the Independent Variable\n",
    "from sklearn.preprocessing import LabelEncoder, OneHotEncoder\n",
    "labelencoder_X = LabelEncoder()\n",
    "X[:, 0] = labelencoder_X.fit_transform(X[:, 0])\n",
    "onehotencoder = OneHotEncoder(categorical_features = [0])\n",
    "X = onehotencoder.fit_transform(X).toarray()\n",
    "# Encoding the Dependent Variable\n",
    "labelencoder_y = LabelEncoder()\n",
    "y = labelencoder_y.fit_transform(y)\n",
    "\n",
    "X, y"
   ]
  },
  {
   "cell_type": "code",
   "execution_count": 14,
   "metadata": {},
   "outputs": [
    {
     "data": {
      "text/plain": [
       "array([[   44.        , 72000.        ],\n",
       "       [   27.        , 48000.        ],\n",
       "       [   30.        , 54000.        ],\n",
       "       [   38.        , 61000.        ],\n",
       "       [   40.        , 63777.77777778],\n",
       "       [   35.        , 58000.        ],\n",
       "       [   38.77777778, 52000.        ],\n",
       "       [   48.        , 79000.        ],\n",
       "       [   50.        , 83000.        ],\n",
       "       [   37.        , 67000.        ]])"
      ]
     },
     "execution_count": 14,
     "metadata": {},
     "output_type": "execute_result"
    }
   ],
   "source": [
    "# Taking care of missing data\n",
    "from sklearn.preprocessing import Imputer\n",
    "X = dataset.iloc[:, 1:3].values\n",
    "y = dataset.iloc[:, 3].values\n",
    "imputer = Imputer(missing_values = 'NaN', strategy = 'mean', axis = 0)\n",
    "imputer = imputer.fit(X)\n",
    "X = imputer.transform(X)\n",
    "\n",
    "X"
   ]
  },
  {
   "cell_type": "code",
   "execution_count": 15,
   "metadata": {},
   "outputs": [
    {
     "data": {
      "text/plain": [
       "(array([[ 0.26306757,  0.12381479],\n",
       "        [-0.25350148,  0.46175632],\n",
       "        [-1.97539832, -1.53093341],\n",
       "        [ 0.05261351, -1.11141978],\n",
       "        [ 1.64058505,  1.7202972 ],\n",
       "        [-0.0813118 , -0.16751412],\n",
       "        [ 0.95182631,  0.98614835],\n",
       "        [-0.59788085, -0.48214934]]), array([[-1.45882927, -0.90166297],\n",
       "        [ 1.98496442,  2.13981082]]))"
      ]
     },
     "execution_count": 15,
     "metadata": {},
     "output_type": "execute_result"
    }
   ],
   "source": [
    "# Feature Scaling\n",
    "from sklearn.preprocessing import StandardScaler\n",
    "\n",
    "X_train, X_test, y_train, y_test = train_test_split(X, y, test_size = 0.2, random_state = 0)\n",
    "\n",
    "sc_X = StandardScaler()\n",
    "X_train = sc_X.fit_transform(X_train)\n",
    "X_test = sc_X.transform(X_test)\n",
    "\n",
    "X_train, X_test"
   ]
  }
 ],
 "metadata": {
  "kernelspec": {
   "display_name": "Python 3",
   "language": "python",
   "name": "python3"
  },
  "language_info": {
   "codemirror_mode": {
    "name": "ipython",
    "version": 3
   },
   "file_extension": ".py",
   "mimetype": "text/x-python",
   "name": "python",
   "nbconvert_exporter": "python",
   "pygments_lexer": "ipython3",
   "version": "3.6.3"
  }
 },
 "nbformat": 4,
 "nbformat_minor": 2
}
