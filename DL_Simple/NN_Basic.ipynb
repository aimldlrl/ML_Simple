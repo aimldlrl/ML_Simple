{
 "cells": [
  {
   "cell_type": "code",
   "execution_count": 1,
   "metadata": {},
   "outputs": [],
   "source": [
    "# Importing the libraries\n",
    "import numpy as np\n",
    "import matplotlib.pyplot as plt\n",
    "import pandas as pd"
   ]
  },
  {
   "cell_type": "code",
   "execution_count": 2,
   "metadata": {},
   "outputs": [],
   "source": [
    "# Importing the dataset\n",
    "dataset = pd.read_csv('Churn_Modelling.csv')\n",
    "X = dataset.iloc[:, 3:13].values\n",
    "y = dataset.iloc[:, 13].values\n",
    "\n",
    "# Encoding categorical data\n",
    "from sklearn.preprocessing import LabelEncoder, OneHotEncoder\n",
    "labelencoder_X_1 = LabelEncoder()\n",
    "X[:, 1] = labelencoder_X_1.fit_transform(X[:, 1])\n",
    "labelencoder_X_2 = LabelEncoder()\n",
    "X[:, 2] = labelencoder_X_2.fit_transform(X[:, 2])\n",
    "onehotencoder = OneHotEncoder(categorical_features = [1])\n",
    "X = onehotencoder.fit_transform(X).toarray()\n",
    "X = X[:, 1:]\n",
    "\n",
    "# Splitting the dataset into the Training set and Test set\n",
    "from sklearn.model_selection import train_test_split\n",
    "X_train, X_test, y_train, y_test = train_test_split(X, y, test_size = 0.2, random_state = 0)\n",
    "\n",
    "# Feature Scaling\n",
    "from sklearn.preprocessing import StandardScaler\n",
    "sc = StandardScaler()\n",
    "X_train = sc.fit_transform(X_train)\n",
    "X_test = sc.transform(X_test)\n"
   ]
  },
  {
   "cell_type": "code",
   "execution_count": 3,
   "metadata": {},
   "outputs": [
    {
     "name": "stderr",
     "output_type": "stream",
     "text": [
      "/anaconda3/lib/python3.6/site-packages/h5py/__init__.py:36: FutureWarning: Conversion of the second argument of issubdtype from `float` to `np.floating` is deprecated. In future, it will be treated as `np.float64 == np.dtype(float).type`.\n",
      "  from ._conv import register_converters as _register_converters\n",
      "Using TensorFlow backend.\n"
     ]
    }
   ],
   "source": [
    "# Importing the Keras libraries and packages\n",
    "import keras\n",
    "from keras.models import Sequential\n",
    "from keras.layers import Dense\n",
    "from keras.layers import Dropout"
   ]
  },
  {
   "cell_type": "code",
   "execution_count": 4,
   "metadata": {},
   "outputs": [],
   "source": [
    "# Initialising the ANN\n",
    "classifier = Sequential()\n",
    "\n",
    "# Adding the input layer and the first hidden layer\n",
    "classifier.add(Dense(units = 6, kernel_initializer = 'uniform', activation = 'relu', input_dim = 11))\n",
    "# classifier.add(Dropout(p = 0.1))\n",
    "\n",
    "# Adding the second hidden layer\n",
    "classifier.add(Dense(units = 6, kernel_initializer = 'uniform', activation = 'relu'))\n",
    "# classifier.add(Dropout(p = 0.1))\n",
    "\n",
    "# Adding the output layer\n",
    "classifier.add(Dense(units = 1, kernel_initializer = 'uniform', activation = 'sigmoid'))\n",
    "\n",
    "# Compiling the ANN\n",
    "classifier.compile(optimizer = 'adam', loss = 'binary_crossentropy', metrics = ['accuracy'])"
   ]
  },
  {
   "cell_type": "code",
   "execution_count": 10,
   "metadata": {
    "scrolled": true
   },
   "outputs": [
    {
     "name": "stdout",
     "output_type": "stream",
     "text": [
      "Epoch 1/100\n",
      "8000/8000 [==============================] - 1s 70us/step - loss: 0.5590 - acc: 0.7960\n",
      "Epoch 2/100\n",
      "8000/8000 [==============================] - 0s 31us/step - loss: 0.4375 - acc: 0.7960\n",
      "Epoch 3/100\n",
      "8000/8000 [==============================] - 0s 30us/step - loss: 0.4309 - acc: 0.7960\n",
      "Epoch 4/100\n",
      "8000/8000 [==============================] - 0s 30us/step - loss: 0.4269 - acc: 0.7960\n",
      "Epoch 5/100\n",
      "8000/8000 [==============================] - 0s 31us/step - loss: 0.4231 - acc: 0.7960\n",
      "Epoch 6/100\n",
      "8000/8000 [==============================] - 0s 31us/step - loss: 0.4204 - acc: 0.7961\n",
      "Epoch 7/100\n",
      "8000/8000 [==============================] - 0s 30us/step - loss: 0.4184 - acc: 0.8186\n",
      "Epoch 8/100\n",
      "8000/8000 [==============================] - 0s 33us/step - loss: 0.4172 - acc: 0.8224\n",
      "Epoch 9/100\n",
      "8000/8000 [==============================] - 0s 32us/step - loss: 0.4161 - acc: 0.8249\n",
      "Epoch 10/100\n",
      "8000/8000 [==============================] - 0s 33us/step - loss: 0.4150 - acc: 0.8272\n",
      "Epoch 11/100\n",
      "8000/8000 [==============================] - 0s 31us/step - loss: 0.4137 - acc: 0.8305\n",
      "Epoch 12/100\n",
      "8000/8000 [==============================] - 0s 30us/step - loss: 0.4131 - acc: 0.8305\n",
      "Epoch 13/100\n",
      "8000/8000 [==============================] - 0s 31us/step - loss: 0.4122 - acc: 0.8324\n",
      "Epoch 14/100\n",
      "8000/8000 [==============================] - 0s 31us/step - loss: 0.4119 - acc: 0.8321\n",
      "Epoch 15/100\n",
      "8000/8000 [==============================] - 0s 31us/step - loss: 0.4110 - acc: 0.8335\n",
      "Epoch 16/100\n",
      "8000/8000 [==============================] - 0s 31us/step - loss: 0.4104 - acc: 0.8335\n",
      "Epoch 17/100\n",
      "8000/8000 [==============================] - 0s 33us/step - loss: 0.4094 - acc: 0.8335\n",
      "Epoch 18/100\n",
      "8000/8000 [==============================] - 0s 30us/step - loss: 0.4090 - acc: 0.8335\n",
      "Epoch 19/100\n",
      "8000/8000 [==============================] - 0s 31us/step - loss: 0.4088 - acc: 0.8350\n",
      "Epoch 20/100\n",
      "8000/8000 [==============================] - 0s 31us/step - loss: 0.4080 - acc: 0.8334\n",
      "Epoch 21/100\n",
      "8000/8000 [==============================] - 0s 36us/step - loss: 0.4076 - acc: 0.8351\n",
      "Epoch 22/100\n",
      "8000/8000 [==============================] - 0s 35us/step - loss: 0.4069 - acc: 0.8349\n",
      "Epoch 23/100\n",
      "8000/8000 [==============================] - 0s 33us/step - loss: 0.4067 - acc: 0.8357\n",
      "Epoch 24/100\n",
      "8000/8000 [==============================] - 0s 34us/step - loss: 0.4063 - acc: 0.8349\n",
      "Epoch 25/100\n",
      "8000/8000 [==============================] - 0s 34us/step - loss: 0.4055 - acc: 0.8349\n",
      "Epoch 26/100\n",
      "8000/8000 [==============================] - 0s 32us/step - loss: 0.4053 - acc: 0.8349\n",
      "Epoch 27/100\n",
      "8000/8000 [==============================] - 0s 35us/step - loss: 0.4052 - acc: 0.8345\n",
      "Epoch 28/100\n",
      "8000/8000 [==============================] - 0s 38us/step - loss: 0.4049 - acc: 0.8359\n",
      "Epoch 29/100\n",
      "8000/8000 [==============================] - 0s 39us/step - loss: 0.4042 - acc: 0.8344\n",
      "Epoch 30/100\n",
      "8000/8000 [==============================] - 0s 37us/step - loss: 0.4041 - acc: 0.8351\n",
      "Epoch 31/100\n",
      "8000/8000 [==============================] - 0s 40us/step - loss: 0.4039 - acc: 0.8363\n",
      "Epoch 32/100\n",
      "8000/8000 [==============================] - 0s 37us/step - loss: 0.4035 - acc: 0.8351\n",
      "Epoch 33/100\n",
      "8000/8000 [==============================] - 0s 40us/step - loss: 0.4038 - acc: 0.8345\n",
      "Epoch 34/100\n",
      "8000/8000 [==============================] - 0s 35us/step - loss: 0.4032 - acc: 0.8348\n",
      "Epoch 35/100\n",
      "8000/8000 [==============================] - 0s 34us/step - loss: 0.4033 - acc: 0.8349\n",
      "Epoch 36/100\n",
      "8000/8000 [==============================] - 0s 32us/step - loss: 0.4031 - acc: 0.8340\n",
      "Epoch 37/100\n",
      "8000/8000 [==============================] - 0s 30us/step - loss: 0.4031 - acc: 0.8355\n",
      "Epoch 38/100\n",
      "8000/8000 [==============================] - 0s 33us/step - loss: 0.4027 - acc: 0.8357\n",
      "Epoch 39/100\n",
      "8000/8000 [==============================] - 0s 32us/step - loss: 0.4024 - acc: 0.8357\n",
      "Epoch 40/100\n",
      "8000/8000 [==============================] - 0s 32us/step - loss: 0.4025 - acc: 0.8350\n",
      "Epoch 41/100\n",
      "8000/8000 [==============================] - 0s 31us/step - loss: 0.4021 - acc: 0.8342\n",
      "Epoch 42/100\n",
      "8000/8000 [==============================] - 0s 32us/step - loss: 0.4027 - acc: 0.8359\n",
      "Epoch 43/100\n",
      "8000/8000 [==============================] - 0s 31us/step - loss: 0.4020 - acc: 0.8351\n",
      "Epoch 44/100\n",
      "8000/8000 [==============================] - 0s 32us/step - loss: 0.4021 - acc: 0.8348\n",
      "Epoch 45/100\n",
      "8000/8000 [==============================] - 0s 31us/step - loss: 0.4016 - acc: 0.8341\n",
      "Epoch 46/100\n",
      "8000/8000 [==============================] - 0s 31us/step - loss: 0.4020 - acc: 0.8353\n",
      "Epoch 47/100\n",
      "8000/8000 [==============================] - 0s 33us/step - loss: 0.4016 - acc: 0.8354\n",
      "Epoch 48/100\n",
      "8000/8000 [==============================] - 0s 33us/step - loss: 0.4013 - acc: 0.8354\n",
      "Epoch 49/100\n",
      "8000/8000 [==============================] - 0s 30us/step - loss: 0.4017 - acc: 0.8346\n",
      "Epoch 50/100\n",
      "8000/8000 [==============================] - 0s 30us/step - loss: 0.4013 - acc: 0.8344\n",
      "Epoch 51/100\n",
      "8000/8000 [==============================] - 0s 31us/step - loss: 0.4014 - acc: 0.8336\n",
      "Epoch 52/100\n",
      "8000/8000 [==============================] - 0s 32us/step - loss: 0.4012 - acc: 0.8346\n",
      "Epoch 53/100\n",
      "8000/8000 [==============================] - 0s 31us/step - loss: 0.4011 - acc: 0.8366\n",
      "Epoch 54/100\n",
      "8000/8000 [==============================] - 0s 31us/step - loss: 0.4013 - acc: 0.8349\n",
      "Epoch 55/100\n",
      "8000/8000 [==============================] - 0s 30us/step - loss: 0.4011 - acc: 0.8342\n",
      "Epoch 56/100\n",
      "8000/8000 [==============================] - 0s 31us/step - loss: 0.4010 - acc: 0.8349\n",
      "Epoch 57/100\n",
      "8000/8000 [==============================] - 0s 31us/step - loss: 0.4010 - acc: 0.8351\n",
      "Epoch 58/100\n",
      "8000/8000 [==============================] - 0s 33us/step - loss: 0.4009 - acc: 0.8354\n",
      "Epoch 59/100\n",
      "8000/8000 [==============================] - 0s 32us/step - loss: 0.4006 - acc: 0.8345\n",
      "Epoch 60/100\n",
      "8000/8000 [==============================] - 0s 34us/step - loss: 0.4009 - acc: 0.8344\n",
      "Epoch 61/100\n",
      "8000/8000 [==============================] - 0s 33us/step - loss: 0.4011 - acc: 0.8342\n",
      "Epoch 62/100\n",
      "8000/8000 [==============================] - 0s 33us/step - loss: 0.4007 - acc: 0.8345\n",
      "Epoch 63/100\n",
      "8000/8000 [==============================] - 0s 32us/step - loss: 0.4005 - acc: 0.8348\n",
      "Epoch 64/100\n",
      "8000/8000 [==============================] - 0s 34us/step - loss: 0.4006 - acc: 0.8339\n",
      "Epoch 65/100\n",
      "8000/8000 [==============================] - 0s 31us/step - loss: 0.4005 - acc: 0.8334\n",
      "Epoch 66/100\n",
      "8000/8000 [==============================] - 0s 31us/step - loss: 0.4005 - acc: 0.8356\n",
      "Epoch 67/100\n",
      "8000/8000 [==============================] - 0s 32us/step - loss: 0.4006 - acc: 0.8350\n",
      "Epoch 68/100\n",
      "8000/8000 [==============================] - 0s 33us/step - loss: 0.4001 - acc: 0.8348\n",
      "Epoch 69/100\n",
      "8000/8000 [==============================] - 0s 32us/step - loss: 0.4003 - acc: 0.8353\n",
      "Epoch 70/100\n",
      "8000/8000 [==============================] - 0s 31us/step - loss: 0.4002 - acc: 0.8348\n",
      "Epoch 71/100\n",
      "8000/8000 [==============================] - 0s 33us/step - loss: 0.4002 - acc: 0.8340\n",
      "Epoch 72/100\n",
      "8000/8000 [==============================] - 0s 32us/step - loss: 0.4000 - acc: 0.8350\n",
      "Epoch 73/100\n",
      "8000/8000 [==============================] - 0s 31us/step - loss: 0.4001 - acc: 0.8339\n",
      "Epoch 74/100\n",
      "8000/8000 [==============================] - 0s 31us/step - loss: 0.4003 - acc: 0.8351\n",
      "Epoch 75/100\n",
      "8000/8000 [==============================] - 0s 32us/step - loss: 0.3998 - acc: 0.8348\n",
      "Epoch 76/100\n",
      "8000/8000 [==============================] - 0s 35us/step - loss: 0.4004 - acc: 0.8335\n",
      "Epoch 77/100\n",
      "8000/8000 [==============================] - 0s 32us/step - loss: 0.4000 - acc: 0.8348\n",
      "Epoch 78/100\n",
      "8000/8000 [==============================] - 0s 31us/step - loss: 0.4001 - acc: 0.8344\n",
      "Epoch 79/100\n",
      "8000/8000 [==============================] - 0s 32us/step - loss: 0.4000 - acc: 0.8348\n",
      "Epoch 80/100\n",
      "8000/8000 [==============================] - 0s 33us/step - loss: 0.4000 - acc: 0.8350\n",
      "Epoch 81/100\n",
      "8000/8000 [==============================] - 0s 31us/step - loss: 0.3998 - acc: 0.8346\n",
      "Epoch 82/100\n",
      "8000/8000 [==============================] - 0s 32us/step - loss: 0.3997 - acc: 0.8350\n",
      "Epoch 83/100\n"
     ]
    },
    {
     "name": "stdout",
     "output_type": "stream",
     "text": [
      "8000/8000 [==============================] - 0s 32us/step - loss: 0.3996 - acc: 0.8336\n",
      "Epoch 84/100\n",
      "8000/8000 [==============================] - 0s 35us/step - loss: 0.3998 - acc: 0.8349\n",
      "Epoch 85/100\n",
      "8000/8000 [==============================] - 0s 34us/step - loss: 0.4001 - acc: 0.8355\n",
      "Epoch 86/100\n",
      "8000/8000 [==============================] - 0s 31us/step - loss: 0.4002 - acc: 0.8349\n",
      "Epoch 87/100\n",
      "8000/8000 [==============================] - 0s 30us/step - loss: 0.3997 - acc: 0.8348\n",
      "Epoch 88/100\n",
      "8000/8000 [==============================] - 0s 34us/step - loss: 0.3997 - acc: 0.8357\n",
      "Epoch 89/100\n",
      "8000/8000 [==============================] - 0s 33us/step - loss: 0.3997 - acc: 0.8344\n",
      "Epoch 90/100\n",
      "8000/8000 [==============================] - 0s 32us/step - loss: 0.3997 - acc: 0.8342\n",
      "Epoch 91/100\n",
      "8000/8000 [==============================] - 0s 34us/step - loss: 0.3997 - acc: 0.8341\n",
      "Epoch 92/100\n",
      "8000/8000 [==============================] - 0s 32us/step - loss: 0.4000 - acc: 0.8348\n",
      "Epoch 93/100\n",
      "8000/8000 [==============================] - 0s 33us/step - loss: 0.3998 - acc: 0.8350\n",
      "Epoch 94/100\n",
      "8000/8000 [==============================] - 0s 31us/step - loss: 0.3994 - acc: 0.8344\n",
      "Epoch 95/100\n",
      "8000/8000 [==============================] - 0s 30us/step - loss: 0.3996 - acc: 0.8327\n",
      "Epoch 96/100\n",
      "8000/8000 [==============================] - 0s 32us/step - loss: 0.3995 - acc: 0.8340\n",
      "Epoch 97/100\n",
      "8000/8000 [==============================] - 0s 32us/step - loss: 0.3996 - acc: 0.8353\n",
      "Epoch 98/100\n",
      "8000/8000 [==============================] - 0s 32us/step - loss: 0.3993 - acc: 0.8337\n",
      "Epoch 99/100\n",
      "8000/8000 [==============================] - 0s 30us/step - loss: 0.3997 - acc: 0.8348\n",
      "Epoch 100/100\n",
      "8000/8000 [==============================] - 0s 31us/step - loss: 0.3997 - acc: 0.8350\n"
     ]
    },
    {
     "data": {
      "text/plain": [
       "<keras.callbacks.History at 0x1a2a9515f8>"
      ]
     },
     "execution_count": 10,
     "metadata": {},
     "output_type": "execute_result"
    }
   ],
   "source": [
    "# Fitting the ANN to the Training set\n",
    "classifier.fit(X_train, y_train, batch_size = 32, epochs = 100)"
   ]
  },
  {
   "cell_type": "code",
   "execution_count": 11,
   "metadata": {},
   "outputs": [],
   "source": [
    "# Predicting the Test set results\n",
    "y_pred = classifier.predict(X_test)\n",
    "y_pred = (y_pred > 0.5)"
   ]
  },
  {
   "cell_type": "code",
   "execution_count": 12,
   "metadata": {},
   "outputs": [
    {
     "data": {
      "text/plain": [
       "array([[False]])"
      ]
     },
     "execution_count": 12,
     "metadata": {},
     "output_type": "execute_result"
    }
   ],
   "source": [
    "# Predicting a single new observation\n",
    "\"\"\"Predict if the customer with the following informations will leave the bank:\n",
    "Geography: France\n",
    "Credit Score: 600\n",
    "Gender: Male\n",
    "Age: 40\n",
    "Tenure: 3\n",
    "Balance: 60000\n",
    "Number of Products: 2\n",
    "Has Credit Card: Yes\n",
    "Is Active Member: Yes\n",
    "Estimated Salary: 50000\"\"\"\n",
    "new_prediction = classifier.predict(sc.transform(np.array([[0.0, 0, 600, 1, 40, 3, 60000, 2, 1, 1, 50000]])))\n",
    "new_prediction = (new_prediction > 0.5)\n",
    "\n",
    "new_prediction"
   ]
  },
  {
   "cell_type": "code",
   "execution_count": 13,
   "metadata": {},
   "outputs": [
    {
     "data": {
      "text/plain": [
       "array([[1544,   51],\n",
       "       [ 260,  145]])"
      ]
     },
     "execution_count": 13,
     "metadata": {},
     "output_type": "execute_result"
    }
   ],
   "source": [
    "# Making the Confusion Matrix\n",
    "from sklearn.metrics import confusion_matrix\n",
    "cm = confusion_matrix(y_test, y_pred)\n",
    "\n",
    "cm"
   ]
  },
  {
   "cell_type": "code",
   "execution_count": null,
   "metadata": {},
   "outputs": [
    {
     "name": "stdout",
     "output_type": "stream",
     "text": [
      "Epoch 1/100\n",
      "Epoch 1/100\n",
      "Epoch 1/100\n",
      "Epoch 1/100\n",
      "Epoch 1/100\n",
      "Epoch 1/100\n",
      "Epoch 1/100\n",
      "Epoch 1/100\n"
     ]
    }
   ],
   "source": [
    "# Evaluating the ANN\n",
    "from keras.wrappers.scikit_learn import KerasClassifier\n",
    "from sklearn.model_selection import cross_val_score\n",
    "from keras.models import Sequential\n",
    "from keras.layers import Dense\n",
    "def build_classifier():\n",
    "    classifier = Sequential()\n",
    "    classifier.add(Dense(units = 6, kernel_initializer = 'uniform', activation = 'relu', input_dim = 11))\n",
    "    classifier.add(Dense(units = 6, kernel_initializer = 'uniform', activation = 'relu'))\n",
    "    classifier.add(Dense(units = 1, kernel_initializer = 'uniform', activation = 'sigmoid'))\n",
    "    classifier.compile(optimizer = 'adam', loss = 'binary_crossentropy', metrics = ['accuracy'])\n",
    "    return classifier\n",
    "classifier = KerasClassifier(build_fn = build_classifier, batch_size = 32, epochs = 100)\n",
    "accuracies = cross_val_score(estimator = classifier, X = X_train, y = y_train, cv = 10, n_jobs = -1)\n",
    "mean = accuracies.mean()\n",
    "variance = accuracies.std()"
   ]
  },
  {
   "cell_type": "code",
   "execution_count": null,
   "metadata": {},
   "outputs": [],
   "source": [
    "# Improving the ANN\n",
    "# Dropout Regularization to reduce overfitting if needed\n",
    "\n",
    "# Tuning the ANN\n",
    "from keras.wrappers.scikit_learn import KerasClassifier\n",
    "from sklearn.model_selection import GridSearchCV\n",
    "from keras.models import Sequential\n",
    "from keras.layers import Dense\n",
    "def build_classifier(optimizer):\n",
    "    classifier = Sequential()\n",
    "    classifier.add(Dense(units = 6, kernel_initializer = 'uniform', activation = 'relu', input_dim = 11))\n",
    "    classifier.add(Dense(units = 6, kernel_initializer = 'uniform', activation = 'relu'))\n",
    "    classifier.add(Dense(units = 1, kernel_initializer = 'uniform', activation = 'sigmoid'))\n",
    "    classifier.compile(optimizer = optimizer, loss = 'binary_crossentropy', metrics = ['accuracy'])\n",
    "    return classifier\n",
    "classifier = KerasClassifier(build_fn = build_classifier)\n",
    "parameters = {'batch_size': [32, 64],\n",
    "              'epochs': [100, 500],\n",
    "              'optimizer': ['adam', 'rmsprop']}\n",
    "grid_search = GridSearchCV(estimator = classifier,\n",
    "                           param_grid = parameters,\n",
    "                           scoring = 'accuracy',\n",
    "                           cv = 10)\n",
    "grid_search = grid_search.fit(X_train, y_train)\n",
    "best_parameters = grid_search.best_params_\n",
    "best_accuracy = grid_search.best_score_"
   ]
  }
 ],
 "metadata": {
  "kernelspec": {
   "display_name": "Python 3",
   "language": "python",
   "name": "python3"
  },
  "language_info": {
   "codemirror_mode": {
    "name": "ipython",
    "version": 3
   },
   "file_extension": ".py",
   "mimetype": "text/x-python",
   "name": "python",
   "nbconvert_exporter": "python",
   "pygments_lexer": "ipython3",
   "version": "3.6.5"
  }
 },
 "nbformat": 4,
 "nbformat_minor": 2
}
